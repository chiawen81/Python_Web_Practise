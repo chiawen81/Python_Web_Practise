{
 "cells": [
  {
   "cell_type": "code",
   "execution_count": 1,
   "id": "fccfedc3",
   "metadata": {},
   "outputs": [
    {
     "name": "stdout",
     "output_type": "stream",
     "text": [
      "        *         \n",
      "       ***        \n",
      "      *****       \n",
      "     *******      \n",
      "    *********     \n",
      "       |||        \n",
      "      =====       \n"
     ]
    }
   ],
   "source": [
    "# 定義一個沒有參數，沒有傳出值的function\n",
    "# todo：建立一個可以使用print()劃出聖誕樹的function\n",
    "# 必須要有說明docstring\n",
    "\n",
    "def draw_christmas_tree():\n",
    "    \"\"\"\n",
    "    \"\"\"\n",
    "    print(\"        *         \")\n",
    "    print(\"       ***        \")\n",
    "    print(\"      *****       \")\n",
    "    print(\"     *******      \")\n",
    "    print(\"    *********     \")\n",
    "    print(\"       |||        \")\n",
    "    print(\"      =====       \")\n",
    "\n",
    "draw_christmas_tree()\n"
   ]
  },
  {
   "cell_type": "code",
   "execution_count": 2,
   "id": "82fa92d7",
   "metadata": {},
   "outputs": [
    {
     "data": {
      "text/plain": [
       "'文文,你好'"
      ]
     },
     "execution_count": 2,
     "metadata": {},
     "output_type": "execute_result"
    }
   ],
   "source": [
    "def greet_person(name):\n",
    "    return f\"{name},你好\"\n",
    "\n",
    "greet_person(\"文文\")\n",
    " "
   ]
  },
  {
   "cell_type": "code",
   "execution_count": 3,
   "id": "c70fb150",
   "metadata": {},
   "outputs": [
    {
     "data": {
      "text/plain": [
       "8"
      ]
     },
     "execution_count": 3,
     "metadata": {},
     "output_type": "execute_result"
    }
   ],
   "source": [
    "password=\"abc12345\"\n",
    "len(password)"
   ]
  },
  {
   "cell_type": "code",
   "execution_count": 5,
   "id": "07ef41a6",
   "metadata": {},
   "outputs": [
    {
     "data": {
      "text/plain": [
       "False"
      ]
     },
     "execution_count": 5,
     "metadata": {},
     "output_type": "execute_result"
    }
   ],
   "source": [
    "has_upper=any(c.isupper() for c in password)\n",
    "(has_upper)"
   ]
  },
  {
   "cell_type": "code",
   "execution_count": 6,
   "id": "80fc8295",
   "metadata": {},
   "outputs": [
    {
     "name": "stdout",
     "output_type": "stream",
     "text": [
      "()\n",
      "(1, 2, 3, 4, 5)\n",
      "(10, 20, 30)\n"
     ]
    },
    {
     "data": {
      "text/plain": [
       "60"
      ]
     },
     "execution_count": 6,
     "metadata": {},
     "output_type": "execute_result"
    }
   ],
   "source": [
    "# *args可變長度參數\n",
    "# todo:計算總合的function\n",
    "# 參數:*args\n",
    "# return:總和\n",
    "\n",
    "def sum_all(*args):\n",
    "    print(args)  # args會是一個tuple\n",
    "    total = 0\n",
    "    for num in args:\n",
    "        total += num\n",
    "    return total\n",
    "\n",
    "sum_all()\n",
    "sum_all(1, 2, 3, 4, 5)\n",
    "sum_all(10, 20, 30)"
   ]
  },
  {
   "cell_type": "code",
   "execution_count": 8,
   "id": "f0d07ed7",
   "metadata": {},
   "outputs": [
    {
     "name": "stdout",
     "output_type": "stream",
     "text": [
      "{'name': 'robert', 'age': 20, 'major': 'CS'}\n",
      "kwargs.items() dict_items([('name', 'robert'), ('age', 20), ('major', 'CS')])\n",
      "key name\n",
      "value robert\n",
      "key age\n",
      "value 20\n",
      "key major\n",
      "value CS\n"
     ]
    },
    {
     "data": {
      "text/plain": [
       "{'name': 'robert', 'age': 20, 'major': 'CS'}"
      ]
     },
     "execution_count": 8,
     "metadata": {},
     "output_type": "execute_result"
    }
   ],
   "source": [
    "# **kwargs可變長度關鍵字參數\n",
    "# todo:自訂function\n",
    "# 名稱:create_student_info\n",
    "# 參數:**kwargs\n",
    "# return(dict):student_info\n",
    "\n",
    "def create_student_info(**kwargs):\n",
    "    student_info = {}\n",
    "    print(kwargs)  # kwargs會是一個dict\n",
    "    print(\"kwargs.items()\",kwargs.items())\n",
    "\n",
    "    for key, value in kwargs.items():\n",
    "        print(\"key\",key)\n",
    "        print(\"value\",value)\n",
    "\n",
    "        student_info[key] = value\n",
    "    return student_info\n",
    "\n",
    "create_student_info(name=\"robert\", age=20, major=\"CS\")"
   ]
  },
  {
   "cell_type": "code",
   "execution_count": 9,
   "id": "256e04ca",
   "metadata": {},
   "outputs": [
    {
     "data": {
      "text/plain": [
       "__main__.Car"
      ]
     },
     "execution_count": 9,
     "metadata": {},
     "output_type": "execute_result"
    }
   ],
   "source": [
    "class Car():\n",
    "    pass\n",
    "\n",
    "car1 = Car()\n",
    "type(car1)"
   ]
  },
  {
   "cell_type": "code",
   "execution_count": 5,
   "id": "68cf2203",
   "metadata": {},
   "outputs": [
    {
     "name": "stdout",
     "output_type": "stream",
     "text": [
      "Buddy\n",
      "3\n"
     ]
    }
   ],
   "source": [
    "class Dog:\n",
    "    def __init__(self, name, age):\n",
    "        self.name = name\n",
    "        self.age = age\n",
    "\n",
    "dog1 = Dog(\"Buddy\", 3)\n",
    "print(dog1.name)  # 輸出: Buddy\n",
    "print(dog1.age)   # 輸出: 3"
   ]
  },
  {
   "cell_type": "code",
   "execution_count": 2,
   "id": "757e1cb4",
   "metadata": {},
   "outputs": [
    {
     "name": "stdout",
     "output_type": "stream",
     "text": [
      "Max\n"
     ]
    }
   ],
   "source": [
    "dog2=Dog(\"Max\",5)\n",
    "print(dog2.name)"
   ]
  },
  {
   "cell_type": "code",
   "execution_count": 6,
   "id": "b596e14b",
   "metadata": {},
   "outputs": [
    {
     "name": "stdout",
     "output_type": "stream",
     "text": [
      "Bella\n"
     ]
    }
   ],
   "source": [
    "dog3=Dog(\"Bella\",2)\n",
    "print(dog3.name)"
   ]
  }
 ],
 "metadata": {
  "kernelspec": {
   "display_name": "class-practise-web",
   "language": "python",
   "name": "python3"
  },
  "language_info": {
   "codemirror_mode": {
    "name": "ipython",
    "version": 3
   },
   "file_extension": ".py",
   "mimetype": "text/x-python",
   "name": "python",
   "nbconvert_exporter": "python",
   "pygments_lexer": "ipython3",
   "version": "3.10.18"
  }
 },
 "nbformat": 4,
 "nbformat_minor": 5
}
