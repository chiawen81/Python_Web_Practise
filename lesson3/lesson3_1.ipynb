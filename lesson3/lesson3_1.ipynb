{
 "cells": [
  {
   "cell_type": "code",
   "execution_count": 15,
   "id": "e09f068b",
   "metadata": {},
   "outputs": [],
   "source": [
    "\n",
    "class Person:\n",
    "    def __init__(self,name): #自訂的初始化\n",
    "        self.name = name #建立attribute\n",
    "\n",
    "    def greeting(self): #自訂的實體方法\n",
    "        print(f\"您好:{self.name}\")"
   ]
  },
  {
   "cell_type": "code",
   "execution_count": 16,
   "id": "ead58fb0",
   "metadata": {},
   "outputs": [
    {
     "name": "stdout",
     "output_type": "stream",
     "text": [
      "您好:robert\n",
      "您好:jenny\n"
     ]
    }
   ],
   "source": [
    "\n",
    "p1:Person = Person(\"robert\")\n",
    "p1.greeting()\n",
    "\n",
    "p2:Person = Person(name=\"jenny\")\n",
    "p2.greeting()"
   ]
  },
  {
   "cell_type": "code",
   "execution_count": 17,
   "id": "21049ead",
   "metadata": {},
   "outputs": [],
   "source": [
    "class Student(Person):\n",
    "    pass"
   ]
  },
  {
   "cell_type": "code",
   "execution_count": 18,
   "id": "95234dd9",
   "metadata": {},
   "outputs": [
    {
     "name": "stdout",
     "output_type": "stream",
     "text": [
      "Kevin\n",
      "您好:Kevin\n"
     ]
    }
   ],
   "source": [
    "s1 = Student(\"Kevin\")\n",
    "print(s1.name)\n",
    "s1.greeting()"
   ]
  },
  {
   "cell_type": "code",
   "execution_count": 19,
   "id": "1d096b13",
   "metadata": {},
   "outputs": [],
   "source": [
    "\n",
    "class Student(Person):\n",
    "    def __init__(self,name,chinese,english,math):\n",
    "        super().__init__(name)\n",
    "        self.chinese = chinese\n",
    "        self.english = english\n",
    "        self.math = math\n",
    "\n",
    "    def greeting(self): #overwirte(覆寫)父類別的實體方法\n",
    "        super().greeting()\n",
    "        print(f\"我是一個學生\")\n",
    "\n",
    "    def total(self): #method,自訂的實體方法\n",
    "        return self.chinese + self.english + self.math\n",
    "\n",
    "    def average(self): #method,自訂的實體方法\n",
    "        return self.total() / 3.0"
   ]
  },
  {
   "cell_type": "code",
   "execution_count": 20,
   "id": "75a99063",
   "metadata": {},
   "outputs": [
    {
     "name": "stdout",
     "output_type": "stream",
     "text": [
      "Kevin\n",
      "國文分數:100\n",
      "英文分數:78\n",
      "數學分數:92\n",
      "總分:270\n",
      "平均:90.0\n",
      "您好:Kevin\n",
      "我是一個學生\n"
     ]
    }
   ],
   "source": [
    "s1 = Student(\"Kevin\",english=78, math=92, chinese=100)\n",
    "print(s1.name)\n",
    "print(f\"國文分數:{s1.chinese}\")\n",
    "print(f\"英文分數:{s1.english}\")\n",
    "print(f\"數學分數:{s1.math}\")\n",
    "print(f\"總分:{s1.total()}\")\n",
    "print(f\"平均:{s1.average()}\")\n",
    "s1.greeting()"
   ]
  }
 ],
 "metadata": {
  "kernelspec": {
   "display_name": "class-practise-web",
   "language": "python",
   "name": "python3"
  },
  "language_info": {
   "codemirror_mode": {
    "name": "ipython",
    "version": 3
   },
   "file_extension": ".py",
   "mimetype": "text/x-python",
   "name": "python",
   "nbconvert_exporter": "python",
   "pygments_lexer": "ipython3",
   "version": "3.10.18"
  }
 },
 "nbformat": 4,
 "nbformat_minor": 5
}
